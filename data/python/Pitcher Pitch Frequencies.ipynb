{
 "cells": [
  {
   "cell_type": "code",
   "execution_count": null,
   "metadata": {},
   "outputs": [
    {
     "name": "stdout",
     "output_type": "stream",
     "text": [
      "This is a large query, it may take a moment to complete\n",
      "Skipping offseason dates\n"
     ]
    },
    {
     "name": "stderr",
     "output_type": "stream",
     "text": [
      "100%|██████████| 200/200 [02:07<00:00,  1.56it/s]\n",
      "/opt/homebrew/anaconda3/lib/python3.11/site-packages/pybaseball/statcast.py:85: FutureWarning: The behavior of DataFrame concatenation with empty or all-NA entries is deprecated. In a future version, this will no longer exclude empty or all-NA columns when determining the result dtypes. To retain the old behavior, exclude the relevant entries before the concat operation.\n",
      "  final_data = pd.concat(dataframe_list, axis=0).convert_dtypes(convert_string=False)\n"
     ]
    }
   ],
   "source": [
    "\n",
    "# libraries\n",
    "import numpy as np\n",
    "import seaborn as sns\n",
    "import pandas as pd\n",
    "import matplotlib.pyplot as plt\n",
    "import gc\n",
    "from matplotlib import style\n",
    "from pybaseball import statcast\n",
    "import progressbar \n",
    "import warnings\n",
    "import psycopg2\n",
    "\n",
    "# pd.options.mode.chained_assignment = None  # default='warn'\n",
    "# warnings.simplefilter(action='ignore', category=FutureWarning)\n",
    "# pd.options.display.float_format = '{:.3f}'.format\n",
    "\n",
    "df_sc = statcast(start_dt='2024-01-01', end_dt='2024-09-30')\n",
    "\n"
   ]
  },
  {
   "cell_type": "code",
   "execution_count": null,
   "metadata": {},
   "outputs": [
    {
     "data": {
      "application/vnd.microsoft.datawrangler.viewer.v0+json": {
       "columns": [
        {
         "name": "index",
         "rawType": "int64",
         "type": "integer"
        },
        {
         "name": "game_year",
         "rawType": "Int64",
         "type": "integer"
        },
        {
         "name": "pitcher",
         "rawType": "Int64",
         "type": "integer"
        },
        {
         "name": "throws",
         "rawType": "object",
         "type": "string"
        }
       ],
       "conversionMethod": "pd.DataFrame",
       "ref": "0531b412-56e5-4e83-a359-f96f970c6851",
       "rows": [
        [
         "0",
         "2024",
         "434378",
         "R"
        ],
        [
         "1",
         "2024",
         "445276",
         "R"
        ],
        [
         "2",
         "2024",
         "445926",
         "R"
        ],
        [
         "3",
         "2024",
         "448179",
         "L"
        ],
        [
         "4",
         "2024",
         "450203",
         "R"
        ],
        [
         "5",
         "2024",
         "453286",
         "R"
        ],
        [
         "6",
         "2024",
         "455119",
         "R"
        ],
        [
         "7",
         "2024",
         "456501",
         "R"
        ],
        [
         "8",
         "2024",
         "458677",
         "L"
        ],
        [
         "9",
         "2024",
         "458681",
         "R"
        ],
        [
         "10",
         "2024",
         "471911",
         "R"
        ],
        [
         "11",
         "2024",
         "472610",
         "R"
        ],
        [
         "12",
         "2024",
         "476595",
         "L"
        ],
        [
         "13",
         "2024",
         "477132",
         "L"
        ],
        [
         "14",
         "2024",
         "489119",
         "L"
        ],
        [
         "15",
         "2024",
         "489446",
         "R"
        ],
        [
         "16",
         "2024",
         "493603",
         "R"
        ],
        [
         "17",
         "2024",
         "500743",
         "R"
        ],
        [
         "18",
         "2024",
         "500779",
         "L"
        ],
        [
         "19",
         "2024",
         "502043",
         "R"
        ],
        [
         "20",
         "2024",
         "502085",
         "R"
        ],
        [
         "21",
         "2024",
         "502171",
         "R"
        ],
        [
         "22",
         "2024",
         "502179",
         "R"
        ],
        [
         "23",
         "2024",
         "502624",
         "R"
        ],
        [
         "24",
         "2024",
         "503449",
         "R"
        ],
        [
         "25",
         "2024",
         "506433",
         "R"
        ],
        [
         "26",
         "2024",
         "516853",
         "R"
        ],
        [
         "27",
         "2024",
         "518397",
         "L"
        ],
        [
         "28",
         "2024",
         "518489",
         "R"
        ],
        [
         "29",
         "2024",
         "518585",
         "R"
        ],
        [
         "30",
         "2024",
         "518586",
         "R"
        ],
        [
         "31",
         "2024",
         "518617",
         "L"
        ],
        [
         "32",
         "2024",
         "518633",
         "L"
        ],
        [
         "33",
         "2024",
         "518876",
         "R"
        ],
        [
         "34",
         "2024",
         "518886",
         "R"
        ],
        [
         "35",
         "2024",
         "519008",
         "L"
        ],
        [
         "36",
         "2024",
         "519043",
         "L"
        ],
        [
         "37",
         "2024",
         "519141",
         "L"
        ],
        [
         "38",
         "2024",
         "519151",
         "R"
        ],
        [
         "39",
         "2024",
         "519242",
         "L"
        ],
        [
         "40",
         "2024",
         "519293",
         "L"
        ],
        [
         "41",
         "2024",
         "519326",
         "R"
        ],
        [
         "42",
         "2024",
         "523260",
         "R"
        ],
        [
         "43",
         "2024",
         "527048",
         "L"
        ],
        [
         "44",
         "2024",
         "527054",
         "R"
        ],
        [
         "45",
         "2024",
         "528748",
         "R"
        ],
        [
         "46",
         "2024",
         "541640",
         "R"
        ],
        [
         "47",
         "2024",
         "542585",
         "R"
        ],
        [
         "48",
         "2024",
         "542881",
         "L"
        ],
        [
         "49",
         "2024",
         "542882",
         "R"
        ]
       ],
       "shape": {
        "columns": 3,
        "rows": 1178
       }
      },
      "text/html": [
       "<div>\n",
       "<style scoped>\n",
       "    .dataframe tbody tr th:only-of-type {\n",
       "        vertical-align: middle;\n",
       "    }\n",
       "\n",
       "    .dataframe tbody tr th {\n",
       "        vertical-align: top;\n",
       "    }\n",
       "\n",
       "    .dataframe thead th {\n",
       "        text-align: right;\n",
       "    }\n",
       "</style>\n",
       "<table border=\"1\" class=\"dataframe\">\n",
       "  <thead>\n",
       "    <tr style=\"text-align: right;\">\n",
       "      <th></th>\n",
       "      <th>game_year</th>\n",
       "      <th>pitcher</th>\n",
       "      <th>throws</th>\n",
       "    </tr>\n",
       "  </thead>\n",
       "  <tbody>\n",
       "    <tr>\n",
       "      <th>0</th>\n",
       "      <td>2024</td>\n",
       "      <td>434378</td>\n",
       "      <td>R</td>\n",
       "    </tr>\n",
       "    <tr>\n",
       "      <th>1</th>\n",
       "      <td>2024</td>\n",
       "      <td>445276</td>\n",
       "      <td>R</td>\n",
       "    </tr>\n",
       "    <tr>\n",
       "      <th>2</th>\n",
       "      <td>2024</td>\n",
       "      <td>445926</td>\n",
       "      <td>R</td>\n",
       "    </tr>\n",
       "    <tr>\n",
       "      <th>3</th>\n",
       "      <td>2024</td>\n",
       "      <td>448179</td>\n",
       "      <td>L</td>\n",
       "    </tr>\n",
       "    <tr>\n",
       "      <th>4</th>\n",
       "      <td>2024</td>\n",
       "      <td>450203</td>\n",
       "      <td>R</td>\n",
       "    </tr>\n",
       "    <tr>\n",
       "      <th>...</th>\n",
       "      <td>...</td>\n",
       "      <td>...</td>\n",
       "      <td>...</td>\n",
       "    </tr>\n",
       "    <tr>\n",
       "      <th>1173</th>\n",
       "      <td>2024</td>\n",
       "      <td>814005</td>\n",
       "      <td>R</td>\n",
       "    </tr>\n",
       "    <tr>\n",
       "      <th>1174</th>\n",
       "      <td>2024</td>\n",
       "      <td>814088</td>\n",
       "      <td>R</td>\n",
       "    </tr>\n",
       "    <tr>\n",
       "      <th>1175</th>\n",
       "      <td>2024</td>\n",
       "      <td>814217</td>\n",
       "      <td>R</td>\n",
       "    </tr>\n",
       "    <tr>\n",
       "      <th>1176</th>\n",
       "      <td>2024</td>\n",
       "      <td>814280</td>\n",
       "      <td>R</td>\n",
       "    </tr>\n",
       "    <tr>\n",
       "      <th>1177</th>\n",
       "      <td>2024</td>\n",
       "      <td>815084</td>\n",
       "      <td>R</td>\n",
       "    </tr>\n",
       "  </tbody>\n",
       "</table>\n",
       "<p>1178 rows × 3 columns</p>\n",
       "</div>"
      ],
      "text/plain": [
       "      game_year  pitcher throws\n",
       "0          2024   434378      R\n",
       "1          2024   445276      R\n",
       "2          2024   445926      R\n",
       "3          2024   448179      L\n",
       "4          2024   450203      R\n",
       "...         ...      ...    ...\n",
       "1173       2024   814005      R\n",
       "1174       2024   814088      R\n",
       "1175       2024   814217      R\n",
       "1176       2024   814280      R\n",
       "1177       2024   815084      R\n",
       "\n",
       "[1178 rows x 3 columns]"
      ]
     },
     "execution_count": 26,
     "metadata": {},
     "output_type": "execute_result"
    }
   ],
   "source": [
    "\n",
    "# Step 1: Your existing unique count\n",
    "df_unique = df_sc[['game_year', 'pitcher', 'p_throws', 'game_pk', 'at_bat_number']].drop_duplicates()\n",
    "result = df_unique.groupby(['game_year', 'pitcher', 'p_throws']).size().reset_index(name='num_at_bats')\n",
    "\n",
    "# Step 2: Pivot to check counts for both stands\n",
    "pivot = result.pivot(index=['game_year', 'pitcher'], columns='p_throws', values='num_at_bats').fillna(0)\n",
    "\n",
    "# Step 3: Apply logic for labeling\n",
    "def label_row(row):\n",
    "    if row.get('L', 0) > 5 and row.get('R', 0) > 5:\n",
    "        return 'B'\n",
    "    elif row.get('L', 0) > row.get('R', 0):\n",
    "        return 'L'\n",
    "    else:\n",
    "        return 'R'\n",
    "\n",
    "pivot['throws'] = pivot.apply(label_row, axis=1)\n",
    "\n",
    "# Step 4: Merge back with your original result\n",
    "final_result = result.merge(pivot[['throws']], on='pitcher')\n",
    "\n",
    "pitcher_throws_info = final_result[['game_year', 'pitcher', 'throws']].drop_duplicates()\n",
    "\n",
    "pitcher_throws_info.to_csv('pitcher_info.csv', index=False)\n",
    "pitcher_throws_info\n",
    "\n",
    "# psql -h piedmont-db.cp6uayweg6ql.us-east-2.rds.amazonaws.com -U postgres -d postgres -p 5432\n",
    "# \\COPY pitcher_info(game_year, pitcher, throws) FROM '/Users/loganmottley/Desktop/Projects/go-baseball/data/pitcher_info.csv' DELIMITER ',' CSV HEADER;"
   ]
  },
  {
   "cell_type": "code",
   "execution_count": null,
   "metadata": {},
   "outputs": [],
   "source": [
    "\n",
    "\n",
    "pitcher_count_pitch_freq = (\n",
    "    df_sc.groupby(['game_year', 'player_name', 'pitcher', 'stand', 'pitch_type', 'balls', 'strikes'])\n",
    "         .size()\n",
    "         .reset_index(name='count')\n",
    ")\n",
    "\n",
    "# Then calculate total_count for each pitcher + stand group\n",
    "pitcher_count_pitch_freq['total_count'] = pitcher_count_pitch_freq.groupby(['pitcher', 'stand', 'balls', 'strikes'])['count'].transform('sum')\n",
    "\n",
    "# Calculate frequency\n",
    "pitcher_count_pitch_freq['frequency'] = pitcher_count_pitch_freq['count'] / pitcher_count_pitch_freq['total_count']\n",
    "\n",
    "# Sort by count\n",
    "pitcher_count_pitch_freq = pitcher_count_pitch_freq.sort_values('count', ascending=False)\n",
    "\n",
    "# Optional: display top 10\n",
    "pitcher_count_pitch_freq\n",
    "\n",
    "\n",
    "\n",
    "pitcher_count_pitch_freq.to_csv('pitcher_count_pitch_freq.csv', index=False)\n",
    "\n",
    "\n",
    "# psql -h piedmont-db.cp6uayweg6ql.us-east-2.rds.amazonaws.com -U postgres -d postgres -p 5432\n",
    "# \\COPY pitcher_count_pitch_freq(game_year, player_name, pitcher, stand, pitch_type, balls, strikes, count, total_count, frequency) FROM '/Users/loganmottley/Desktop/Projects/go-baseball/data/pitcher_count_pitch_freq.csv' DELIMITER ',' CSV HEADER;\n",
    "\n"
   ]
  }
 ],
 "metadata": {
  "kernelspec": {
   "display_name": "base",
   "language": "python",
   "name": "python3"
  },
  "language_info": {
   "codemirror_mode": {
    "name": "ipython",
    "version": 3
   },
   "file_extension": ".py",
   "mimetype": "text/x-python",
   "name": "python",
   "nbconvert_exporter": "python",
   "pygments_lexer": "ipython3",
   "version": "3.11.4"
  }
 },
 "nbformat": 4,
 "nbformat_minor": 2
}
